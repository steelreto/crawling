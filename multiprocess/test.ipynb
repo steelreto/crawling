{
 "cells": [
  {
   "cell_type": "code",
   "execution_count": 15,
   "metadata": {},
   "outputs": [],
   "source": [
    "import requests\n",
    "import pandas as pd\n",
    "import time"
   ]
  },
  {
   "cell_type": "code",
   "execution_count": 16,
   "metadata": {},
   "outputs": [],
   "source": [
    "# Steam Storefront API 리뷰 엔드포인트\n",
    "API_URL = \"https://store.steampowered.com/appreviews/1623730\""
   ]
  },
  {
   "cell_type": "code",
   "execution_count": 17,
   "metadata": {},
   "outputs": [],
   "source": [
    "def fetch_reviews(cursor=\"\"):\n",
    "    \"\"\"스토어프론트 API를 사용하여 팰월드의 한국어 리뷰 가져오기\"\"\"\n",
    "    params = {\n",
    "        \"json\": 1,\n",
    "        \"language\": \"koreana\",\n",
    "        \"filter\": \"all\",  # 모든 리뷰 가져오기\n",
    "        \"cursor\": cursor,\n",
    "        \"store_api_use_in_app\": 1,  # **이 옵션이 없으면 0개 리뷰 반환**\n",
    "    }\n",
    "    headers = {\"User-Agent\": \"Mozilla/5.0\"}\n",
    "\n",
    "    try:\n",
    "        response = requests.get(API_URL, params=params, headers=headers)\n",
    "        if response.status_code == 200:\n",
    "            data = response.json()\n",
    "            reviews = [\n",
    "                {\n",
    "                    \"review\": review[\"review\"],\n",
    "                    \"recommend\": review[\"voted_up\"],\n",
    "                    \"votes_up\": review[\"votes_up\"],\n",
    "                    \"votes_funny\": review[\"votes_funny\"],\n",
    "                    \"timestamp\": review[\"timestamp_created\"],\n",
    "                }\n",
    "                for review in data.get(\"reviews\", [])\n",
    "            ]\n",
    "            next_cursor = data.get(\"cursor\", \"\")\n",
    "            return reviews, next_cursor\n",
    "        else:\n",
    "            print(f\"❌ API 요청 실패: {response.status_code}\")\n",
    "            return [], \"\"\n",
    "    except Exception as e:\n",
    "        print(f\"⚠️ 오류 발생: {e}\")\n",
    "        return [], \"\""
   ]
  },
  {
   "cell_type": "code",
   "execution_count": 18,
   "metadata": {},
   "outputs": [
    {
     "name": "stdout",
     "output_type": "stream",
     "text": [
      "총 0개의 리뷰를 가져와 'palworld_reviews_api.csv'로 저장했습니다.\n",
      "⏳ 실행 시간: 0.28초\n"
     ]
    }
   ],
   "source": [
    "if __name__ == '__main__':\n",
    "    start_time = time.time()\n",
    "    \n",
    "    all_reviews = []\n",
    "    cursor = \"\"\n",
    "\n",
    "    while cursor is not None:\n",
    "        reviews, cursor = fetch_reviews(cursor)\n",
    "        if reviews:\n",
    "            all_reviews.extend(reviews)\n",
    "            time.sleep(1)  # API 요청 간격 조절 (속도 제한 방지)\n",
    "        else:\n",
    "            break  # 데이터가 더 이상 없으면 종료\n",
    "\n",
    "    # DataFrame으로 변환 후 CSV로 저장\n",
    "    df = pd.DataFrame(all_reviews)\n",
    "    df.to_csv(\"palworld_reviews_api.csv\", index=False, encoding=\"utf-8-sig\")\n",
    "\n",
    "    print(f\"총 {len(all_reviews)}개의 리뷰를 가져와 'palworld_reviews_api.csv'로 저장했습니다.\")\n",
    "    print(f\"⏳ 실행 시간: {time.time() - start_time:.2f}초\")"
   ]
  },
  {
   "cell_type": "code",
   "execution_count": null,
   "metadata": {},
   "outputs": [],
   "source": []
  }
 ],
 "metadata": {
  "kernelspec": {
   "display_name": "base",
   "language": "python",
   "name": "python3"
  },
  "language_info": {
   "codemirror_mode": {
    "name": "ipython",
    "version": 3
   },
   "file_extension": ".py",
   "mimetype": "text/x-python",
   "name": "python",
   "nbconvert_exporter": "python",
   "pygments_lexer": "ipython3",
   "version": "3.11.7"
  }
 },
 "nbformat": 4,
 "nbformat_minor": 2
}
