{
 "cells": [
  {
   "cell_type": "code",
   "execution_count": 1,
   "metadata": {},
   "outputs": [],
   "source": [
    "import pandas as pd\n",
    "import matplotlib.pyplot as plt\n",
    "from collections import Counter\n",
    "from konlpy.tag import Okt\n",
    "\n",
    "# Load the Trickcal Revive reviews dataset\n",
    "file_path_trickcal = r\"C:\\Users\\bisu\\Documents\\GitHub\\crawling\\trickcal_revive\\trickcal_revive_reviews.csv\"\n",
    "df_trickcal = pd.read_csv(file_path_trickcal)\n",
    "\n",
    "# Ensure proper datetime conversion\n",
    "df_trickcal['at'] = pd.to_datetime(df_trickcal['at'])\n",
    "\n",
    "# Windows 예제\n",
    "rc('font', family='Malgun Gothic')  # 맑은 고딕\n",
    "plt.rcParams['axes.unicode_minus'] = False  # 마이너스 기호 깨짐 방지"
   ]
  },
  {
   "cell_type": "code",
   "execution_count": 2,
   "metadata": {},
   "outputs": [
    {
     "name": "stdout",
     "output_type": "stream",
     "text": [
      "데이터프레임 정보:\n",
      "<class 'pandas.core.frame.DataFrame'>\n",
      "RangeIndex: 9620 entries, 0 to 9619\n",
      "Data columns (total 4 columns):\n",
      " #   Column    Non-Null Count  Dtype \n",
      "---  ------    --------------  ----- \n",
      " 0   userName  9620 non-null   object\n",
      " 1   score     9620 non-null   int64 \n",
      " 2   at        9620 non-null   object\n",
      " 3   content   9620 non-null   object\n",
      "dtypes: int64(1), object(3)\n",
      "memory usage: 300.8+ KB\n",
      "None\n",
      "\n",
      "상위 5개 데이터:\n",
      "     userName  score                   at  \\\n",
      "0  Google 사용자      5  2025-01-17 08:57:24   \n",
      "1  Google 사용자      5  2025-01-17 04:28:06   \n",
      "2  Google 사용자      5  2025-01-17 02:57:49   \n",
      "3  Google 사용자      5  2025-01-17 00:55:52   \n",
      "4  Google 사용자      5  2025-01-17 00:53:37   \n",
      "\n",
      "                                             content  \n",
      "0  게임은 재밌어요 사도들이 이쁘고 침략도 재밌는데 단한가지 불편한점이 덱을짤때 추천조...  \n",
      "1  장점 - 스토리, 캐릭터성, 피라 이벤스 단점 - 그 외 나머지 단점을 장점이 씹고...  \n",
      "2                                      역시 정상화는 신 정 현  \n",
      "3  광고에 떴길래 해보니까 재밌어 는데 뽑기에서 란이 라는 캐릭터를 갔고 싶어는데 뽑기...  \n",
      "4  스토리 재밌어요 캐릭터들도 귀엽고 개성있고 무엇보다도 아트팀에 변1태들이 많아요 근...  \n"
     ]
    }
   ],
   "source": [
    "# 1. 별점 분포 - 막대그래프\n",
    "def visualize_score_distribution(data):\n",
    "    score_counts = data['score'].value_counts().sort_index()\n",
    "    plt.figure(figsize=(8, 5))\n",
    "    plt.bar(score_counts.index, score_counts.values, color='skyblue')\n",
    "    plt.title('별점 분포')\n",
    "    plt.xlabel('별점')\n",
    "    plt.ylabel('리뷰 수')\n",
    "    plt.xticks(score_counts.index)\n",
    "    plt.grid(axis='y', linestyle='--', alpha=0.7)\n",
    "    plt.show()"
   ]
  },
  {
   "cell_type": "code",
   "execution_count": 4,
   "metadata": {},
   "outputs": [],
   "source": [
    "# 2. 특정 기간 동안의 리뷰 빈도 - 라인 차트\n",
    "def visualize_review_trends(data):\n",
    "    review_by_date = data.groupby(data['at'].dt.date)['content'].count()\n",
    "    plt.figure(figsize=(12, 6))\n",
    "    plt.plot(review_by_date.index, review_by_date.values, marker='o', color='orange')\n",
    "    plt.title('특정 기간 동안의 리뷰 빈도')\n",
    "    plt.xlabel('날짜')\n",
    "    plt.ylabel('리뷰 수')\n",
    "    plt.grid()\n",
    "    plt.xticks(rotation=45)\n",
    "    plt.show()"
   ]
  },
  {
   "cell_type": "code",
   "execution_count": 6,
   "metadata": {},
   "outputs": [],
   "source": [
    "# 3. 긍정/보통/부정 리뷰 비율 - 도넛 차트\n",
    "def visualize_sentiment_distribution(data):\n",
    "    data['sentiment'] = data['score'].apply(lambda x: '긍정' if x >= 4 else ('보통' if x == 3 else '부정'))\n",
    "    sentiment_counts = data['sentiment'].value_counts()\n",
    "    plt.figure(figsize=(6, 6))\n",
    "    plt.pie(sentiment_counts, labels=sentiment_counts.index, autopct='%1.1f%%', startangle=90, wedgeprops=dict(width=0.3))\n",
    "    plt.title('긍정/보통/부정 리뷰 비율')\n",
    "    plt.show()"
   ]
  },
  {
   "cell_type": "code",
   "execution_count": 7,
   "metadata": {},
   "outputs": [],
   "source": [
    "# 4. 주요 키워드 분석 - 막대그래프\n",
    "def visualize_keyword_frequency(data):\n",
    "    okt = Okt()\n",
    "    all_nouns = []\n",
    "    data['content'].dropna().apply(lambda x: all_nouns.extend(okt.nouns(x)))\n",
    "    word_freq = Counter(all_nouns).most_common(20)\n",
    "    words, counts = zip(*word_freq)\n",
    "    plt.figure(figsize=(10, 6))\n",
    "    plt.bar(words, counts, color='green')\n",
    "    plt.title('주요 키워드 빈도수')\n",
    "    plt.xticks(rotation=45)\n",
    "    plt.ylabel('빈도수')\n",
    "    plt.xlabel('키워드')\n",
    "    plt.show()"
   ]
  },
  {
   "cell_type": "code",
   "execution_count": 8,
   "metadata": {},
   "outputs": [],
   "source": [
    "# 5. 리뷰 길이에 따른 평점 분포 - 산점도\n",
    "def visualize_review_length_vs_score(data):\n",
    "    data['review_length'] = data['content'].apply(lambda x: len(str(x)) if pd.notna(x) else 0)\n",
    "    plt.figure(figsize=(8, 5))\n",
    "    plt.scatter(data['review_length'], data['score'], alpha=0.5, color='purple')\n",
    "    plt.title('리뷰 길이에 따른 평점 분포')\n",
    "    plt.xlabel('리뷰 길이')\n",
    "    plt.ylabel('별점')\n",
    "    plt.grid()\n",
    "    plt.show()"
   ]
  },
  {
   "cell_type": "code",
   "execution_count": 9,
   "metadata": {},
   "outputs": [],
   "source": [
    "# Execute the visualizations\n",
    "visualize_score_distribution(df_trickcal)\n",
    "visualize_review_trends(df_trickcal)\n",
    "visualize_sentiment_distribution(df_trickcal)\n",
    "visualize_keyword_frequency(df_trickcal)\n",
    "visualize_review_length_vs_score(df_trickcal)"
   ]
  }
 ],
 "metadata": {
  "kernelspec": {
   "display_name": "base",
   "language": "python",
   "name": "python3"
  },
  "language_info": {
   "codemirror_mode": {
    "name": "ipython",
    "version": 3
   },
   "file_extension": ".py",
   "mimetype": "text/x-python",
   "name": "python",
   "nbconvert_exporter": "python",
   "pygments_lexer": "ipython3",
   "version": "3.11.7"
  }
 },
 "nbformat": 4,
 "nbformat_minor": 2
}
