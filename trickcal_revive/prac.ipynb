{
 "cells": [
  {
   "cell_type": "code",
   "execution_count": 3,
   "metadata": {},
   "outputs": [],
   "source": [
    "from google_play_scraper import reviews_all, Sort\n",
    "import pandas as pd"
   ]
  },
  {
   "cell_type": "code",
   "execution_count": 1,
   "metadata": {},
   "outputs": [],
   "source": [
    "# '트릭컬 리바이브' 앱의 패키지 이름\n",
    "app_package_name = 'com.epidgames.trickcalrevive'"
   ]
  },
  {
   "cell_type": "code",
   "execution_count": 4,
   "metadata": {},
   "outputs": [],
   "source": [
    "# 모든 리뷰 가져오기\n",
    "reviews = reviews_all(\n",
    "    app_package_name,\n",
    "    lang='ko',  # 한국어 리뷰\n",
    "    country='kr',  # 한국 스토어\n",
    "    sort=Sort.NEWEST  # 최신순으로 정렬\n",
    ")"
   ]
  },
  {
   "cell_type": "code",
   "execution_count": 5,
   "metadata": {},
   "outputs": [
    {
     "data": {
      "text/plain": [
       "(9607, 11)"
      ]
     },
     "execution_count": 5,
     "metadata": {},
     "output_type": "execute_result"
    }
   ],
   "source": [
    "# 데이터프레임으로 변환\n",
    "df = pd.DataFrame(reviews)\n",
    "df.shape"
   ]
  },
  {
   "cell_type": "code",
   "execution_count": 6,
   "metadata": {},
   "outputs": [
    {
     "data": {
      "text/html": [
       "<div>\n",
       "<style scoped>\n",
       "    .dataframe tbody tr th:only-of-type {\n",
       "        vertical-align: middle;\n",
       "    }\n",
       "\n",
       "    .dataframe tbody tr th {\n",
       "        vertical-align: top;\n",
       "    }\n",
       "\n",
       "    .dataframe thead th {\n",
       "        text-align: right;\n",
       "    }\n",
       "</style>\n",
       "<table border=\"1\" class=\"dataframe\">\n",
       "  <thead>\n",
       "    <tr style=\"text-align: right;\">\n",
       "      <th></th>\n",
       "      <th>reviewId</th>\n",
       "      <th>userName</th>\n",
       "      <th>userImage</th>\n",
       "      <th>content</th>\n",
       "      <th>score</th>\n",
       "      <th>thumbsUpCount</th>\n",
       "      <th>reviewCreatedVersion</th>\n",
       "      <th>at</th>\n",
       "      <th>replyContent</th>\n",
       "      <th>repliedAt</th>\n",
       "      <th>appVersion</th>\n",
       "    </tr>\n",
       "  </thead>\n",
       "  <tbody>\n",
       "    <tr>\n",
       "      <th>0</th>\n",
       "      <td>e32c06fa-8353-45c3-b4cf-d333388ef9a9</td>\n",
       "      <td>Google 사용자</td>\n",
       "      <td>https://play-lh.googleusercontent.com/EGemoI2N...</td>\n",
       "      <td>돈까스에서 볼슝좍이 나왔사와요!... 아이고!... 이를어째!!..</td>\n",
       "      <td>5</td>\n",
       "      <td>0</td>\n",
       "      <td>10219</td>\n",
       "      <td>2025-01-16 18:50:32</td>\n",
       "      <td>None</td>\n",
       "      <td>NaT</td>\n",
       "      <td>10219</td>\n",
       "    </tr>\n",
       "    <tr>\n",
       "      <th>1</th>\n",
       "      <td>cfed8d85-314b-48e3-a957-4ff32455822b</td>\n",
       "      <td>Google 사용자</td>\n",
       "      <td>https://play-lh.googleusercontent.com/EGemoI2N...</td>\n",
       "      <td>개재밌음</td>\n",
       "      <td>5</td>\n",
       "      <td>0</td>\n",
       "      <td>10225</td>\n",
       "      <td>2025-01-16 18:36:35</td>\n",
       "      <td>안녕하세요.\\n귀염뽀짝! 볼따구 라이프! 트릭컬 리바이브입니다.\\n\\n언제나 교주님...</td>\n",
       "      <td>2025-01-17 18:35:42</td>\n",
       "      <td>10225</td>\n",
       "    </tr>\n",
       "    <tr>\n",
       "      <th>2</th>\n",
       "      <td>596a365d-7819-407a-b64e-e05f762c74eb</td>\n",
       "      <td>Google 사용자</td>\n",
       "      <td>https://play-lh.googleusercontent.com/EGemoI2N...</td>\n",
       "      <td>볼ㅋㅋ</td>\n",
       "      <td>5</td>\n",
       "      <td>0</td>\n",
       "      <td>10219</td>\n",
       "      <td>2025-01-16 17:58:25</td>\n",
       "      <td>None</td>\n",
       "      <td>NaT</td>\n",
       "      <td>10219</td>\n",
       "    </tr>\n",
       "    <tr>\n",
       "      <th>3</th>\n",
       "      <td>a04aac21-8f80-4b6e-8295-e1e782a1f18d</td>\n",
       "      <td>Google 사용자</td>\n",
       "      <td>https://play-lh.googleusercontent.com/EGemoI2N...</td>\n",
       "      <td>볼따구가 낭낭하고 프리클이 귀여워요</td>\n",
       "      <td>5</td>\n",
       "      <td>0</td>\n",
       "      <td>10219</td>\n",
       "      <td>2025-01-16 17:58:18</td>\n",
       "      <td>안녕하세요.\\n귀염뽀짝! 볼따구 라이프! 트릭컬 리바이브입니다.\\n\\n먼저, 소중한...</td>\n",
       "      <td>2025-01-17 18:35:35</td>\n",
       "      <td>10219</td>\n",
       "    </tr>\n",
       "    <tr>\n",
       "      <th>4</th>\n",
       "      <td>15089e8b-36ec-4d21-b203-40d6f86478a3</td>\n",
       "      <td>Google 사용자</td>\n",
       "      <td>https://play-lh.googleusercontent.com/EGemoI2N...</td>\n",
       "      <td>이야...... 이것 참.......</td>\n",
       "      <td>5</td>\n",
       "      <td>0</td>\n",
       "      <td>10219</td>\n",
       "      <td>2025-01-16 17:53:44</td>\n",
       "      <td>안녕하세요.\\n귀염뽀짝! 볼따구 라이프! 트릭컬 리바이브입니다.\\n\\n볼 빵빵한 7...</td>\n",
       "      <td>2025-01-17 18:35:29</td>\n",
       "      <td>10219</td>\n",
       "    </tr>\n",
       "  </tbody>\n",
       "</table>\n",
       "</div>"
      ],
      "text/plain": [
       "                               reviewId    userName  \\\n",
       "0  e32c06fa-8353-45c3-b4cf-d333388ef9a9  Google 사용자   \n",
       "1  cfed8d85-314b-48e3-a957-4ff32455822b  Google 사용자   \n",
       "2  596a365d-7819-407a-b64e-e05f762c74eb  Google 사용자   \n",
       "3  a04aac21-8f80-4b6e-8295-e1e782a1f18d  Google 사용자   \n",
       "4  15089e8b-36ec-4d21-b203-40d6f86478a3  Google 사용자   \n",
       "\n",
       "                                           userImage  \\\n",
       "0  https://play-lh.googleusercontent.com/EGemoI2N...   \n",
       "1  https://play-lh.googleusercontent.com/EGemoI2N...   \n",
       "2  https://play-lh.googleusercontent.com/EGemoI2N...   \n",
       "3  https://play-lh.googleusercontent.com/EGemoI2N...   \n",
       "4  https://play-lh.googleusercontent.com/EGemoI2N...   \n",
       "\n",
       "                                 content  score  thumbsUpCount  \\\n",
       "0  돈까스에서 볼슝좍이 나왔사와요!... 아이고!... 이를어째!!..      5              0   \n",
       "1                                   개재밌음      5              0   \n",
       "2                                    볼ㅋㅋ      5              0   \n",
       "3                    볼따구가 낭낭하고 프리클이 귀여워요      5              0   \n",
       "4                   이야...... 이것 참.......      5              0   \n",
       "\n",
       "  reviewCreatedVersion                  at  \\\n",
       "0                10219 2025-01-16 18:50:32   \n",
       "1                10225 2025-01-16 18:36:35   \n",
       "2                10219 2025-01-16 17:58:25   \n",
       "3                10219 2025-01-16 17:58:18   \n",
       "4                10219 2025-01-16 17:53:44   \n",
       "\n",
       "                                        replyContent           repliedAt  \\\n",
       "0                                               None                 NaT   \n",
       "1  안녕하세요.\\n귀염뽀짝! 볼따구 라이프! 트릭컬 리바이브입니다.\\n\\n언제나 교주님... 2025-01-17 18:35:42   \n",
       "2                                               None                 NaT   \n",
       "3  안녕하세요.\\n귀염뽀짝! 볼따구 라이프! 트릭컬 리바이브입니다.\\n\\n먼저, 소중한... 2025-01-17 18:35:35   \n",
       "4  안녕하세요.\\n귀염뽀짝! 볼따구 라이프! 트릭컬 리바이브입니다.\\n\\n볼 빵빵한 7... 2025-01-17 18:35:29   \n",
       "\n",
       "  appVersion  \n",
       "0      10219  \n",
       "1      10225  \n",
       "2      10219  \n",
       "3      10219  \n",
       "4      10219  "
      ]
     },
     "execution_count": 6,
     "metadata": {},
     "output_type": "execute_result"
    }
   ],
   "source": [
    "df.head()"
   ]
  },
  {
   "cell_type": "code",
   "execution_count": null,
   "metadata": {},
   "outputs": [],
   "source": [
    "# 필요한 컬럼만 선택\n",
    "df = df[['userName', 'score', 'at', 'content']]"
   ]
  },
  {
   "cell_type": "code",
   "execution_count": null,
   "metadata": {},
   "outputs": [],
   "source": [
    "df.head(20)"
   ]
  }
 ],
 "metadata": {
  "kernelspec": {
   "display_name": "base",
   "language": "python",
   "name": "python3"
  },
  "language_info": {
   "codemirror_mode": {
    "name": "ipython",
    "version": 3
   },
   "file_extension": ".py",
   "mimetype": "text/x-python",
   "name": "python",
   "nbconvert_exporter": "python",
   "pygments_lexer": "ipython3",
   "version": "3.11.7"
  }
 },
 "nbformat": 4,
 "nbformat_minor": 2
}
