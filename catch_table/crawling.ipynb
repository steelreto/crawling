{
 "cells": [
  {
   "cell_type": "code",
   "execution_count": 24,
   "metadata": {},
   "outputs": [],
   "source": [
    "import csv\n",
    "from selenium import webdriver\n",
    "from selenium.webdriver.common.by import By\n",
    "from selenium.webdriver.chrome.service import Service\n",
    "import time"
   ]
  },
  {
   "cell_type": "code",
   "execution_count": 25,
   "metadata": {},
   "outputs": [],
   "source": [
    "# ChromeDriver 경로 설정\n",
    "service = Service(\"C:/chromedriver-win64/chromedriver.exe\")\n",
    "options = webdriver.ChromeOptions()"
   ]
  },
  {
   "cell_type": "code",
   "execution_count": 26,
   "metadata": {},
   "outputs": [],
   "source": [
    "# 모바일 환경 설정\n",
    "mobile_emulation = {\n",
    "    \"deviceMetrics\": {\"width\": 360, \"height\": 640, \"pixelRatio\": 3.0},\n",
    "    \"userAgent\": \"Mozilla/5.0 (iPhone; CPU iPhone OS 15_0 like Mac OS X) AppleWebKit/605.1.15 (KHTML, like Gecko) Version/15.0 Mobile/15E148 Safari/604.1\"\n",
    "}\n",
    "options.add_experimental_option(\"mobileEmulation\", mobile_emulation)"
   ]
  },
  {
   "cell_type": "code",
   "execution_count": 27,
   "metadata": {},
   "outputs": [],
   "source": [
    "# 브라우저 열기\n",
    "driver = webdriver.Chrome(service=service, options=options)\n",
    "driver.get(\"https://app.catchtable.co.kr/ct/shop/sushikoji/review\")  # 리뷰 페이지 URL"
   ]
  },
  {
   "cell_type": "code",
   "execution_count": 28,
   "metadata": {},
   "outputs": [],
   "source": [
    "# 페이지 로드 대기\n",
    "time.sleep(5)"
   ]
  },
  {
   "cell_type": "code",
   "execution_count": 29,
   "metadata": {},
   "outputs": [],
   "source": [
    "# 무한 스크롤 처리\n",
    "SCROLL_PAUSE_TIME = 3  # 스크롤 후 대기 시간\n",
    "MAX_SCROLL = 200  # 최대 스크롤 반복 횟수 (2000개 리뷰 예상 기준)\n",
    "\n",
    "scroll_count = 0\n",
    "last_height = driver.execute_script(\"return document.body.scrollHeight\")\n",
    "\n",
    "while scroll_count < MAX_SCROLL:\n",
    "    driver.execute_script(\"window.scrollTo(0, document.body.scrollHeight);\")  # 스크롤 끝까지 내리기\n",
    "    time.sleep(SCROLL_PAUSE_TIME)\n",
    "\n",
    "    new_height = driver.execute_script(\"return document.body.scrollHeight\")\n",
    "    if new_height == last_height:\n",
    "        break  # 더 이상 스크롤할 데이터가 없으면 종료\n",
    "    last_height = new_height\n",
    "    scroll_count += 1"
   ]
  },
  {
   "cell_type": "code",
   "execution_count": 30,
   "metadata": {},
   "outputs": [
    {
     "name": "stdout",
     "output_type": "stream",
     "text": [
      "리뷰 데이터를 sushikoji_reviews.csv 파일에 저장했습니다! 총 2074개의 리뷰를 수집했습니다.\n"
     ]
    }
   ],
   "source": [
    "# 리뷰 크롤링\n",
    "reviews_data = []\n",
    "unique_reviews = set()  # 중복 제거를 위한 Set\n",
    "\n",
    "try:\n",
    "    # 리뷰 컨테이너 찾기\n",
    "    reviews = driver.find_elements(By.CLASS_NAME, \"__my-review-post\")  # 리뷰 컨테이너 클래스 이름\n",
    "    for review in reviews:\n",
    "        try:\n",
    "            # 평점 추출\n",
    "            rating = review.find_element(By.CLASS_NAME, \"_10fm75h6\").text\n",
    "\n",
    "            # 리뷰어 이름 추출\n",
    "            username = review.find_element(By.CLASS_NAME, \"name.username\").text\n",
    "\n",
    "            # 리뷰 내용 추출\n",
    "            content = review.find_element(By.CLASS_NAME, \"review-content\").text\n",
    "\n",
    "            # 중복 여부 확인\n",
    "            review_key = f\"{username}_{content}\"\n",
    "            if review_key not in unique_reviews:\n",
    "                unique_reviews.add(review_key)\n",
    "                reviews_data.append({\n",
    "                    \"rating\": rating,\n",
    "                    \"username\": username,\n",
    "                    \"content\": content\n",
    "                })\n",
    "        except Exception as e:\n",
    "            print(f\"리뷰 처리 중 에러 발생: {e}\")\n",
    "\n",
    "    # 리뷰 데이터를 CSV로 저장\n",
    "    with open(\"sushikoji_reviews.csv\", \"w\", newline=\"\", encoding=\"utf-8\") as file:\n",
    "        writer = csv.DictWriter(file, fieldnames=[\"rating\", \"username\", \"content\"])\n",
    "        writer.writeheader()  # 헤더 작성\n",
    "        writer.writerows(reviews_data)  # 데이터 작성\n",
    "\n",
    "    print(f\"리뷰 데이터를 sushikoji_reviews.csv 파일에 저장했습니다! 총 {len(reviews_data)}개의 리뷰를 수집했습니다.\")\n",
    "\n",
    "finally:\n",
    "    driver.quit()"
   ]
  },
  {
   "cell_type": "code",
   "execution_count": null,
   "metadata": {},
   "outputs": [],
   "source": []
  }
 ],
 "metadata": {
  "kernelspec": {
   "display_name": "base",
   "language": "python",
   "name": "python3"
  },
  "language_info": {
   "codemirror_mode": {
    "name": "ipython",
    "version": 3
   },
   "file_extension": ".py",
   "mimetype": "text/x-python",
   "name": "python",
   "nbconvert_exporter": "python",
   "pygments_lexer": "ipython3",
   "version": "3.11.7"
  }
 },
 "nbformat": 4,
 "nbformat_minor": 2
}
